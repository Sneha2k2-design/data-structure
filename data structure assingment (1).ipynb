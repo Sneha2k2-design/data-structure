{
 "cells": [
  {
   "cell_type": "code",
   "execution_count": 1,
   "id": "10c1a02d-52ae-485a-b19a-93eeb60d87f7",
   "metadata": {},
   "outputs": [],
   "source": [
    "1.#string slicing in progrmming refers to a posion of string by specifing a range of indices .its common operation in manyy programming languages ,including pythonthe basicsyntax of string is"
   ]
  },
  {
   "cell_type": "code",
   "execution_count": 2,
   "id": "7131d94a-e6dc-43e1-beaa-3b501ff6b719",
   "metadata": {},
   "outputs": [
    {
     "data": {
      "text/plain": [
       "'nc'"
      ]
     },
     "execution_count": 2,
     "metadata": {},
     "output_type": "execute_result"
    }
   ],
   "source": [
    "x=\"sinchana\"\n",
    "x[2:4]"
   ]
  },
  {
   "cell_type": "code",
   "execution_count": 3,
   "id": "bada8930-45a0-4c2e-a6f3-6568bd44f375",
   "metadata": {},
   "outputs": [
    {
     "data": {
      "text/plain": [
       "'anahcnis'"
      ]
     },
     "execution_count": 3,
     "metadata": {},
     "output_type": "execute_result"
    }
   ],
   "source": [
    "x[::-1]"
   ]
  },
  {
   "cell_type": "code",
   "execution_count": 4,
   "id": "b1440474-2571-4ac0-b84b-41085773790d",
   "metadata": {},
   "outputs": [],
   "source": [
    "#2.features of list in python\n",
    "#orderd collection\n",
    "#mutable\n",
    "#hetrogenous\n",
    "#dyanamic size\n",
    "#slicing and indexing\n",
    "#iteration\n",
    "#builrt in mothods \n",
    "#nested list\n",
    "#supports common operations\n"
   ]
  },
  {
   "cell_type": "code",
   "execution_count": 1,
   "id": "95ea34b9-8acd-400d-ad29-f4694c682160",
   "metadata": {},
   "outputs": [
    {
     "data": {
      "text/plain": [
       "'apple'"
      ]
     },
     "execution_count": 1,
     "metadata": {},
     "output_type": "execute_result"
    }
   ],
   "source": [
    "#3.accessing elements list\n",
    "fruits=[\"apple\",\"banana\",\"pinapple\",\"mango\"]\n",
    "fruits[0]"
   ]
  },
  {
   "cell_type": "code",
   "execution_count": 2,
   "id": "e663cd24-4c42-412b-9005-c0050c23f1ef",
   "metadata": {},
   "outputs": [],
   "source": [
    "#moddifying elements in list\n",
    "fruits[1]=\"orange\""
   ]
  },
  {
   "cell_type": "code",
   "execution_count": 3,
   "id": "ad3a899e-891a-415f-98ad-679d014b1329",
   "metadata": {},
   "outputs": [
    {
     "name": "stdout",
     "output_type": "stream",
     "text": [
      "['apple', 'orange', 'pinapple', 'mango']\n"
     ]
    }
   ],
   "source": [
    "print(fruits)\n"
   ]
  },
  {
   "cell_type": "code",
   "execution_count": 5,
   "id": "f6bab9ab-cd04-4a32-a522-98d5f4bb963e",
   "metadata": {},
   "outputs": [],
   "source": [
    "#deleing element from list\n",
    "del fruits[1]"
   ]
  },
  {
   "cell_type": "code",
   "execution_count": 6,
   "id": "3b9d5460-d3ca-4828-926e-e8204c136270",
   "metadata": {},
   "outputs": [
    {
     "name": "stdout",
     "output_type": "stream",
     "text": [
      "['apple', 'pinapple', 'mango']\n"
     ]
    }
   ],
   "source": [
    "print(fruits)\n"
   ]
  },
  {
   "cell_type": "code",
   "execution_count": 8,
   "id": "4492c4ef-dc4b-49c9-8834-49eb32f4a80e",
   "metadata": {},
   "outputs": [
    {
     "name": "stdout",
     "output_type": "stream",
     "text": [
      "['pinapple', 'mango']\n"
     ]
    }
   ],
   "source": [
    "fruits.remove(\"apple\")\n",
    "print(fruits)"
   ]
  },
  {
   "cell_type": "code",
   "execution_count": 1,
   "id": "b1ee9614-36b7-42c6-9dfb-ed5589a74370",
   "metadata": {},
   "outputs": [],
   "source": [
    "#4.list mutable tuples immutable\n",
    "#synatx of list(),syntax of tuples[]\n",
    "list=[1,2,3,4,5]\n",
    "tuples=(1,2,3,4,5,6)\n",
    "\n"
   ]
  },
  {
   "cell_type": "code",
   "execution_count": 2,
   "id": "98a1727a-5551-400e-8bbe-2fb8903c03fd",
   "metadata": {},
   "outputs": [],
   "source": [
    "#5.key features of sets\n",
    "#unordered collection\n",
    "#unique element\n",
    "#mutable\n",
    "#no indexing or slicing\n",
    "#set operation\n",
    "#set comperhension"
   ]
  },
  {
   "cell_type": "code",
   "execution_count": 3,
   "id": "154ec343-f01e-401c-9db8-a31c10a8e259",
   "metadata": {},
   "outputs": [
    {
     "name": "stdout",
     "output_type": "stream",
     "text": [
      "{1, 2, 3, 4, 5, 6}\n"
     ]
    }
   ],
   "source": [
    "sets={1,2,3,4,5,6}\n",
    "print(sets)"
   ]
  },
  {
   "cell_type": "code",
   "execution_count": 4,
   "id": "44f67422-5bb3-4716-95a3-a22edbf0203a",
   "metadata": {},
   "outputs": [
    {
     "name": "stdout",
     "output_type": "stream",
     "text": [
      "{1, 2, 3, 4, 5, 6}\n"
     ]
    }
   ],
   "source": [
    "print(sets)"
   ]
  },
  {
   "cell_type": "code",
   "execution_count": 11,
   "id": "d46702dc-6aae-45f1-898c-0deb7f74a522",
   "metadata": {},
   "outputs": [
    {
     "data": {
      "text/plain": [
       "{1, 2, 3, 4, 5, 6, 7, 8, 9, 10, 11}"
      ]
     },
     "execution_count": 11,
     "metadata": {},
     "output_type": "execute_result"
    }
   ],
   "source": [
    "a={1,2,3,4,5,6}#set operations\n",
    "b={6,7,8,9,10,11}\n",
    "a.union (b)"
   ]
  },
  {
   "cell_type": "code",
   "execution_count": 6,
   "id": "2c15ccbb-3d73-4df7-b699-212d2831bb42",
   "metadata": {},
   "outputs": [
    {
     "data": {
      "text/plain": [
       "{6}"
      ]
     },
     "execution_count": 6,
     "metadata": {},
     "output_type": "execute_result"
    }
   ],
   "source": [
    "a.intersection(b)"
   ]
  },
  {
   "cell_type": "code",
   "execution_count": 8,
   "id": "f6adc3e6-67d5-4624-a6c6-5d8b776456ae",
   "metadata": {},
   "outputs": [
    {
     "data": {
      "text/plain": [
       "{1, 2, 3, 4, 5}"
      ]
     },
     "execution_count": 8,
     "metadata": {},
     "output_type": "execute_result"
    }
   ],
   "source": [
    "a.difference(b)\n"
   ]
  },
  {
   "cell_type": "code",
   "execution_count": 10,
   "id": "883aa68c-7487-40f8-8562-15d135da70c5",
   "metadata": {},
   "outputs": [
    {
     "data": {
      "text/plain": [
       "{1, 2, 3, 4, 5, 7, 8, 9, 10, 11}"
      ]
     },
     "execution_count": 10,
     "metadata": {},
     "output_type": "execute_result"
    }
   ],
   "source": [
    "a.symmetric_difference(b)"
   ]
  },
  {
   "cell_type": "code",
   "execution_count": 13,
   "id": "bb0cd6d4-11dc-46df-a723-efaec59f3333",
   "metadata": {},
   "outputs": [
    {
     "name": "stdout",
     "output_type": "stream",
     "text": [
      "{0, 1, 4, 9, 16}\n"
     ]
    }
   ],
   "source": [
    "#comperhension\n",
    "sets={x**2 for x in range(5)}\n",
    "print(sets)"
   ]
  },
  {
   "cell_type": "code",
   "execution_count": 16,
   "id": "176b4baf-6042-4024-9afa-bd539ec3fa7c",
   "metadata": {},
   "outputs": [
    {
     "name": "stdout",
     "output_type": "stream",
     "text": [
      "True\n"
     ]
    }
   ],
   "source": [
    "#membership testig\n",
    "sets={1,2,3,4,5}\n",
    "print(3 in sets)"
   ]
  },
  {
   "cell_type": "code",
   "execution_count": 4,
   "id": "3cdc7f96-d292-4e10-a3d2-d710c4b00c60",
   "metadata": {},
   "outputs": [
    {
     "name": "stdout",
     "output_type": "stream",
     "text": [
      "{1, 2, 3, 4, 5, 6, 7}\n"
     ]
    }
   ],
   "source": [
    "#6.tuples\n",
    "#fixed collection\n",
    "#dictionary keys\n",
    "#return multiple value\n",
    "#data integrity\n",
    "#data base record\n",
    "def get_coordinates():\n",
    "    return(10,20)\n",
    "x,y=get_coordinates()\n",
    "#sets \n",
    "#removing dulicates\n",
    "#testng membership\n",
    "#sets opreations #unique elememts\n",
    "sets={1,2,3,4,5,6,7}\n",
    "print( sets)\n"
   ]
  },
  {
   "cell_type": "code",
   "execution_count": 4,
   "id": "0fee3603-fcd0-49d0-9814-203a3be80b68",
   "metadata": {},
   "outputs": [],
   "source": [
    "#7.\n",
    "my_dict={\"name\":\"sneha\",\"age\":22,\"sex\":\"female\"}"
   ]
  },
  {
   "cell_type": "code",
   "execution_count": 7,
   "id": "69f34feb-c815-49b0-b5c6-d36e091dd731",
   "metadata": {},
   "outputs": [
    {
     "name": "stdout",
     "output_type": "stream",
     "text": [
      "{'name': 'sneha', 'age': 26, 'sex': 'female'}\n"
     ]
    }
   ],
   "source": [
    "my_dict[\"age\"]=26\n",
    "print(my_dict)"
   ]
  },
  {
   "cell_type": "code",
   "execution_count": 8,
   "id": "983b9c22-3099-4938-8de8-1eb7a32ec3da",
   "metadata": {},
   "outputs": [],
   "source": [
    "del my_dict[\"age\"]"
   ]
  },
  {
   "cell_type": "code",
   "execution_count": 9,
   "id": "a5731162-6976-448f-aa63-86c5961acd13",
   "metadata": {},
   "outputs": [
    {
     "name": "stdout",
     "output_type": "stream",
     "text": [
      "{'name': 'sneha', 'sex': 'female'}\n"
     ]
    }
   ],
   "source": [
    "print(my_dict)"
   ]
  },
  {
   "cell_type": "code",
   "execution_count": 13,
   "id": "9bba5958-db6c-44da-8225-ad73edf8c469",
   "metadata": {},
   "outputs": [],
   "source": [
    "my_dict[\"age\"]=25"
   ]
  },
  {
   "cell_type": "code",
   "execution_count": 14,
   "id": "08be5d9a-a381-413e-91a5-002db0d4a15c",
   "metadata": {},
   "outputs": [
    {
     "name": "stdout",
     "output_type": "stream",
     "text": [
      "{'name': 'sneha', 'sex': 'female', 'age': 25}\n"
     ]
    }
   ],
   "source": [
    "print(my_dict)"
   ]
  },
  {
   "cell_type": "code",
   "execution_count": 5,
   "id": "85c86c6b-5f75-4da9-a48a-61f56bbf2486",
   "metadata": {},
   "outputs": [
    {
     "name": "stdout",
     "output_type": "stream",
     "text": [
      "{'name': 'sneha', 'age': 22, 'sex': 'female'}\n"
     ]
    }
   ],
   "source": [
    "#8.imporatance of immutable dictionary keys\n",
    "#consistancy\n",
    "#performance\n",
    "#hashability\n",
    "coordinates=(10,20)\n",
    "location_dict={coordinates:\"park\"}\n",
    "print(my_dict)\n"
   ]
  },
  {
   "cell_type": "code",
   "execution_count": null,
   "id": "6b0a09d9-cba8-4382-ae8d-9f1dc336677f",
   "metadata": {},
   "outputs": [],
   "source": []
  }
 ],
 "metadata": {
  "kernelspec": {
   "display_name": "Python 3 (ipykernel)",
   "language": "python",
   "name": "python3"
  },
  "language_info": {
   "codemirror_mode": {
    "name": "ipython",
    "version": 3
   },
   "file_extension": ".py",
   "mimetype": "text/x-python",
   "name": "python",
   "nbconvert_exporter": "python",
   "pygments_lexer": "ipython3",
   "version": "3.10.8"
  }
 },
 "nbformat": 4,
 "nbformat_minor": 5
}
